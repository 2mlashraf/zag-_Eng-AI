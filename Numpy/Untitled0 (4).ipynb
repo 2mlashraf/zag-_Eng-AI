{
  "nbformat": 4,
  "nbformat_minor": 0,
  "metadata": {
    "colab": {
      "provenance": []
    },
    "kernelspec": {
      "name": "python3",
      "display_name": "Python 3"
    },
    "language_info": {
      "name": "python"
    }
  },
  "cells": [
    {
      "cell_type": "code",
      "source": [
        "import numpy as np\n",
        "\n",
        "# Create the initial array\n",
        "x = np.array([[1, 2, 3], [4, 5, 6]])\n",
        "\n",
        "#  Use slicing to get the 5th element\n",
        "fifth_element = x[1, 1]  # 1st row, 1st column\n",
        "\n",
        "# Display the result\n",
        "print(fifth_element)\n",
        "#وممكن نسخدم -> flatten()\n"
      ],
      "metadata": {
        "id": "Xzo99_TwpgN7"
      },
      "execution_count": null,
      "outputs": []
    }
  ]
}