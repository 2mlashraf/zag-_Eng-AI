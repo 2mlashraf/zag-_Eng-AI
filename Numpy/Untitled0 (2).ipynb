{
  "nbformat": 4,
  "nbformat_minor": 0,
  "metadata": {
    "colab": {
      "provenance": []
    },
    "kernelspec": {
      "name": "python3",
      "display_name": "Python 3"
    },
    "language_info": {
      "name": "python"
    }
  },
  "cells": [
    {
      "cell_type": "code",
      "source": [
        "import numpy as np\n",
        "\n",
        "# Create the array\n",
        "x = np.array([1, 2, 3, 4, 5, 6, 7, 8, 9])\n",
        "\n",
        "# Split the array into three parts\n",
        "array1 = x[:4]     # First 4 elements\n",
        "array2 = x[4:6]    # Next 2 elements\n",
        "array3 = x[6:]     # Last 3 elements\n",
        "\n",
        "# Display the results\n",
        "print(\"Array 1:\", array1)\n",
        "print(\"Array 2:\", array2)\n",
        "print(\"Array 3:\", array3)\n"
      ],
      "metadata": {
        "id": "c99vkXZ3l3Hw"
      },
      "execution_count": null,
      "outputs": []
    }
  ]
}