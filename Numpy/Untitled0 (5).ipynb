{
  "nbformat": 4,
  "nbformat_minor": 0,
  "metadata": {
    "colab": {
      "provenance": []
    },
    "kernelspec": {
      "name": "python3",
      "display_name": "Python 3"
    },
    "language_info": {
      "name": "python"
    }
  },
  "cells": [
    {
      "cell_type": "code",
      "source": [
        "import numpy as np\n",
        "\n",
        "# Create the init array\n",
        "x = np.array([0, 1, 2])\n",
        "\n",
        "result = np.repeat(x, 2)  # Repeat each element 2 times\n",
        "\n",
        "# Display the result\n",
        "print(result)\n"
      ],
      "metadata": {
        "id": "SmhIjvMorC-x"
      },
      "execution_count": null,
      "outputs": []
    }
  ]
}