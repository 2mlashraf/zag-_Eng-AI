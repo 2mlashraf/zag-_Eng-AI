{
  "nbformat": 4,
  "nbformat_minor": 0,
  "metadata": {
    "colab": {
      "provenance": []
    },
    "kernelspec": {
      "name": "python3",
      "display_name": "Python 3"
    },
    "language_info": {
      "name": "python"
    }
  },
  "cells": [
    {
      "cell_type": "code",
      "source": [
        "import numpy as np\n",
        "\n",
        "# Create the initial array\n",
        "x = np.array([[1, 2, 3], [4, 5, 6]])\n",
        "\n",
        "# Use slicing to rearrange the elements\n",
        "result = np.empty((6,), dtype=int)  # Create an empty array for the result\n",
        "result[0] = x[0, 0]  # 1\n",
        "result[1] = x[1, 0]  # 4\n",
        "result[2] = x[0, 1]  # 2\n",
        "result[3] = x[1, 1]  # 5\n",
        "result[4] = x[0, 2]  # 3\n",
        "result[5] = x[1, 2]  # 6\n",
        "\n",
        "# Display the result\n",
        "print(result)\n"
      ],
      "metadata": {
        "id": "A3v_U405n2ur"
      },
      "execution_count": null,
      "outputs": []
    }
  ]
}