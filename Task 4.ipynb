{
  "cells": [
    {
      "cell_type": "markdown",
      "metadata": {
        "id": "1yX7P3eEIzfC"
      },
      "source": [
        "![image.jpeg](PlayStore.jpeg)"
      ]
    },
    {
      "cell_type": "markdown",
      "metadata": {
        "id": "E18Bo6Y3IzfH"
      },
      "source": [
        "# **Data Cleaning and Analysis Activities**"
      ]
    },
    {
      "cell_type": "markdown",
      "metadata": {
        "id": "-viznzhXIzfI"
      },
      "source": [
        "**`Note:` it's better to make a copy from the dataframe and test on it before making any changes in the orignal one**"
      ]
    },
    {
      "cell_type": "markdown",
      "metadata": {
        "id": "e4fsV_dFIzfJ"
      },
      "source": [
        "### 1.Which of the following column(s) has/have null values?\n",
        "\n",
        "Select the columns that you have identified having null/missing values."
      ]
    },
    {
      "cell_type": "code",
      "execution_count": null,
      "metadata": {
        "id": "9Km4gqOcIzfK"
      },
      "outputs": [],
      "source": [
        " df.isnull().sum()"
      ]
    },
    {
      "cell_type": "markdown",
      "metadata": {
        "id": "pTfOz9w4IzfL"
      },
      "source": [
        "### 2. Clean the Rating Column and Other Columns Containing Null Values\n",
        "\n",
        "**Steps:**\n",
        "\n",
        "0. Try plotting a histogram and a boxplot for this column to understand the issue\n",
        "1. Remove invalid values from the Rating column (set them as NaN).\n",
        "2. Fill null values in the Rating column using the mean().\n",
        "3. Clean any other non-numerical columns by dropping the rows containing null values.\n",
        "4. Perform the modifications \"in place\", modifying `df`. If you make a mistake, re-load the data.\n",
        "\n",
        "**Details:**\n",
        "- Replace all ratings not in the range of 0 to 5 with NaN.\n",
        "- Drop rows with null values in other columns."
      ]
    },
    {
      "cell_type": "code",
      "execution_count": null,
      "metadata": {
        "id": "i7xYL6xHIzfM"
      },
      "outputs": [],
      "source": [
        "import numpy as np\n",
        "df.loc[(df['Rating']<0) | (df['Rating']>5), 'Rating' ] = np.nan #replace invalid numbers with nan\n",
        "df['Rating'].fillna(df['Rating'].mean(),inplace=True)\n",
        "df.dropna(inplace=True)"
      ]
    },
    {
      "cell_type": "markdown",
      "metadata": {
        "id": "54GVwZ2AIzfN"
      },
      "source": [
        "### 3. Clean the Reviews Column and Make It Numeric\n",
        "\n",
        "You'll notice that some columns from this dataframe which should be numeric, were parsed as object (string). That's because sometimes the numbers are expressed with M, or k to indicate Mega or kilo.\n",
        "\n",
        "Clean the Reviews column by transforming the values to the correct numeric representation.\n",
        "\n",
        "For example, 5M should be 5000000."
      ]
    },
    {
      "cell_type": "code",
      "execution_count": null,
      "metadata": {
        "id": "yB-hwttAIzfO"
      },
      "outputs": [],
      "source": [
        "#Convert the Reviews column to numeric\n",
        "def reviews(values):\n",
        "  if isinstance(value, str): #check if yhe value is a string\n",
        "    if 'M' in value: # Convert \"M\" (Millions) to an integer\n",
        "       return int(float(value.replace('M',' '))*1000000)\n",
        "    elif 'K' in value: #convert \"K\" (Thousands) to an integer\n",
        "       return int(float(value.replace('K',' '))*1000)\n",
        "  return int(value) # Keep numeric values unchanged\n",
        "df['reviews'] = df['reviews'].apply(reviews)"
      ]
    },
    {
      "cell_type": "markdown",
      "metadata": {
        "id": "8wjKHqUZIzfP"
      },
      "source": [
        "### 4. Count the Number of Duplicated Apps\n",
        "\n",
        "Count the number of duplicated rows. That is, if the app Twitter appears 2 times, that counts as 2."
      ]
    },
    {
      "cell_type": "code",
      "execution_count": null,
      "metadata": {
        "id": "_-osYhjHIzfQ"
      },
      "outputs": [],
      "source": [
        "df.duplicated(subset=['App']).sum()"
      ]
    },
    {
      "cell_type": "markdown",
      "metadata": {
        "id": "U8vxFKF8IzfQ"
      },
      "source": [
        "### 5. Drop Duplicated Apps Keeping Only the Ones with the Greatest Number of Reviews\n",
        "\n",
        "Now that the Reviews column is numeric, we can use it to clean duplicated apps. Drop duplicated apps, keeping just one copy of each, the one with the greatest number of reviews.\n",
        "\n",
        "Hint: you'll need to sort the dataframe by App and Reviews, and that will change the order of your df."
      ]
    },
    {
      "cell_type": "code",
      "execution_count": null,
      "metadata": {
        "id": "wSaxv4keIzfR"
      },
      "outputs": [],
      "source": [
        "df = df.sort_values(by['App', 'reviews'],ascending[True,False])\n",
        "df = df.drop_duplicates(subset=['App'], keep ='first') # Drop duplicate apps while keeping the one with the highest number of reviews"
      ]
    },
    {
      "cell_type": "markdown",
      "metadata": {
        "id": "sSZa52IYIzfS"
      },
      "source": [
        "### 6. Format the Category Column\n",
        "\n",
        "Categories are all uppercase and words are separated using underscores. Instead, we want them with capitalized in the first character and the underscores transformed as whitespaces.\n",
        "\n",
        "Example, the category AUTO_AND_VEHICLES should be transformed to: Auto and vehicles. Also, if you find any other wrong value transform it into an Unknown category."
      ]
    },
    {
      "cell_type": "code",
      "execution_count": null,
      "metadata": {
        "id": "ZHeyxFJiIzfT"
      },
      "outputs": [],
      "source": [
        "df['Category'] = df['Category'].str.replace('_',' ').str.title() # Replace underscores with spaces and capitalize the first letter of each word\n",
        "valid_categories = df['Category'].unique()\n",
        "df.loc[~df['Category'].isin(valid_categories), 'Category'] = 'Unknown' # Replace any invalid categories with 'Unknown'"
      ]
    },
    {
      "cell_type": "markdown",
      "metadata": {
        "id": "NyIyID2RIzfU"
      },
      "source": [
        "### 7. Clean and Convert the Installs Column to Numeric Type\n",
        "\n",
        "Clean and transform Installs as a numeric type. Some values in Installs will have a + modifier. Just remove the string and honor the original number (for example +2,500 or 2,500+ should be transformed to the number 2500)."
      ]
    },
    {
      "cell_type": "code",
      "execution_count": null,
      "metadata": {
        "id": "BD5M1mrNIzfU"
      },
      "outputs": [],
      "source": [
        "df['Installs'] = df['Installs'].str.replace('+',' ').str.replace(',',' ').astype(int)"
      ]
    },
    {
      "cell_type": "markdown",
      "metadata": {
        "id": "WgtmtIxnIzfV"
      },
      "source": [
        "### 8. Clean and Convert the Size Column to Numeric (Representing Bytes)\n",
        "\n",
        "The Size column is of type object. Some values contain either a M or a k that indicate Kilobytes (1024 bytes) or Megabytes (1024 kb). These values should be transformed to their corresponding value in bytes. For example, 898k will become 919552 (898 * 1024).\n",
        "\n",
        "Some other values are completely invalid (there's no way to infer the numeric type from them). For these, just replace the value for 0.\n",
        "\n",
        "Some other rules are related to + modifiers, apply the same rules as the previous task."
      ]
    },
    {
      "cell_type": "code",
      "execution_count": null,
      "metadata": {
        "id": "KDF5LRMYIzfV"
      },
      "outputs": [],
      "source": [
        "def convert_size(value):\n",
        "    if 'M' in value:\n",
        "        return int(float(value.replace('M', '')) * 1024 * 1024)  # Convert MB to bytes\n",
        "    elif 'K' in value:\n",
        "        return int(float(value.replace('K', '')) * 1024)  # Convert KB to bytes\n",
        "    elif value == 'Varies with device':\n",
        "        return 0\n",
        "    else:\n",
        "        return int(value)  # Convert numeric strings to integers\n",
        "\n",
        "df['Size'] = df['Size'].apply(convert_size)\n"
      ]
    },
    {
      "cell_type": "markdown",
      "metadata": {
        "id": "QEUPGe9pIzfV"
      },
      "source": [
        "### 9. Clean and Convert the Price Column to Numeric\n",
        "\n",
        "Values of the Price column are strings representing price with special symbol '$'."
      ]
    },
    {
      "cell_type": "code",
      "execution_count": null,
      "metadata": {
        "id": "PEyLh69SIzfW"
      },
      "outputs": [],
      "source": [
        "# Remove '$'\n",
        "df['Price'] = df['Price'].str.replace('$', '')\n"
      ]
    },
    {
      "cell_type": "markdown",
      "metadata": {
        "id": "bQylKV1LIzfX"
      },
      "source": [
        "### 10. Paid or Free?\n",
        "\n",
        "Now that you have cleaned the Price column, let's create another auxiliary Distribution column.\n",
        "\n",
        "This column should contain Free/Paid values depending on the app's price."
      ]
    },
    {
      "cell_type": "code",
      "execution_count": null,
      "metadata": {
        "id": "D5Oi6vXaIzfX"
      },
      "outputs": [],
      "source": [
        "def classify_app(price):\n",
        "    if price == 0:\n",
        "        return 'Free'\n",
        "    else:\n",
        "        return 'Paid'\n",
        "\n",
        "df['Type'] = df['Price'].apply(classify_app)\n"
      ]
    },
    {
      "cell_type": "markdown",
      "metadata": {
        "id": "RXLAft9HIzfY"
      },
      "source": [
        "## Finally!!!\n",
        "- Now all is left is to save the new dataframe we made into a new csv file called `filteredplaystore.csv`"
      ]
    },
    {
      "cell_type": "code",
      "execution_count": null,
      "metadata": {
        "id": "MuRvSoCPIzfY"
      },
      "outputs": [],
      "source": [
        "df.to_csv('filteredplaystore.csv',index = False) # :)"
      ]
    }
  ],
  "metadata": {
    "kernelspec": {
      "display_name": "Python 3",
      "language": "python",
      "name": "python3"
    },
    "language_info": {
      "codemirror_mode": {
        "name": "ipython",
        "version": 3
      },
      "file_extension": ".py",
      "mimetype": "text/x-python",
      "name": "python",
      "nbconvert_exporter": "python",
      "pygments_lexer": "ipython3",
      "version": "3.12.5"
    },
    "colab": {
      "provenance": []
    }
  },
  "nbformat": 4,
  "nbformat_minor": 0
}