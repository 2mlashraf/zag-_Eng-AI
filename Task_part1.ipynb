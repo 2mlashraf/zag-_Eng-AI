{
  "cells": [
    {
      "cell_type": "markdown",
      "metadata": {
        "id": "4BYRNyUUpISr"
      },
      "source": [
        "![image.jpeg](PlayStore.jpeg)"
      ]
    },
    {
      "cell_type": "markdown",
      "metadata": {
        "id": "8IL3fTsRpISv"
      },
      "source": [
        "# **Data Cleaning and Analysis Activities**"
      ]
    },
    {
      "cell_type": "markdown",
      "metadata": {
        "id": "ybemR4yOpISw"
      },
      "source": [
        "**`Note:` it's better to make a copy from the dataframe and test on it before making any changes in the orignal one**"
      ]
    },
    {
      "cell_type": "markdown",
      "metadata": {
        "id": "MmNyVK-mpISy"
      },
      "source": [
        "### 1.Which of the following column(s) has/have null values?\n",
        "\n",
        "Select the columns that you have identified having null/missing values."
      ]
    },
    {
      "cell_type": "code",
      "execution_count": 2,
      "metadata": {
        "colab": {
          "base_uri": "https://localhost:8080/"
        },
        "id": "kGIvsz7bpISz",
        "outputId": "b906729d-b899-49f3-8f58-2eb92dcf11c6"
      },
      "outputs": [
        {
          "output_type": "stream",
          "name": "stdout",
          "text": [
            "App                  0\n",
            "Category             0\n",
            "Rating            1474\n",
            "Reviews              0\n",
            "Size                 0\n",
            "Installs             0\n",
            "Type                 1\n",
            "Price                0\n",
            "Content Rating       1\n",
            "Genres               0\n",
            "Last Updated         0\n",
            "Current Ver          8\n",
            "Android Ver          3\n",
            "dtype: int64\n"
          ]
        }
      ],
      "source": [
        "import pandas as pd\n",
        "\n",
        "df = pd.read_csv(\"googleplaystore.csv\")\n",
        "\n",
        "print(df.isnull().sum())\n"
      ]
    },
    {
      "cell_type": "markdown",
      "metadata": {
        "id": "3cO6bcmlpIS1"
      },
      "source": [
        "### 2. Clean the Rating Column and Other Columns Containing Null Values\n",
        "\n",
        "**Steps:**\n",
        "\n",
        "0. Try plotting a histogram and a boxplot for this column to understand the issue\n",
        "1. Remove invalid values from the Rating column (set them as NaN).\n",
        "2. Fill null values in the Rating column using the mean().\n",
        "3. Clean any other non-numerical columns by dropping the rows containing null values.\n",
        "4. Perform the modifications \"in place\", modifying `df`. If you make a mistake, re-load the data.\n",
        "\n",
        "**Details:**\n",
        "- Replace all ratings not in the range of 0 to 5 with NaN.\n",
        "- Drop rows with null values in other columns."
      ]
    },
    {
      "cell_type": "code",
      "execution_count": 3,
      "metadata": {
        "colab": {
          "base_uri": "https://localhost:8080/"
        },
        "id": "PxfyYgRvpIS2",
        "outputId": "2441dcb5-a822-4777-cead-7a624e7ea3a9"
      },
      "outputs": [
        {
          "output_type": "stream",
          "name": "stderr",
          "text": [
            "<ipython-input-3-8010a22b99fd>:3: FutureWarning: A value is trying to be set on a copy of a DataFrame or Series through chained assignment using an inplace method.\n",
            "The behavior will change in pandas 3.0. This inplace method will never work because the intermediate object on which we are setting values always behaves as a copy.\n",
            "\n",
            "For example, when doing 'df[col].method(value, inplace=True)', try using 'df.method({col: value}, inplace=True)' or df[col] = df[col].method(value) instead, to perform the operation inplace on the original object.\n",
            "\n",
            "\n",
            "  df['Rating'].fillna(df['Rating'].mean(),inplace=True)\n"
          ]
        }
      ],
      "source": [
        "import numpy as np\n",
        "df.loc[(df['Rating']<0) | (df['Rating']>5), 'Rating' ] = np.nan #replace invalid numbers with nan\n",
        "df['Rating'].fillna(df['Rating'].mean(),inplace=True)\n",
        "df.dropna(inplace=True)"
      ]
    },
    {
      "cell_type": "markdown",
      "metadata": {
        "id": "_ODax8jEpIS2"
      },
      "source": [
        "### 3. Clean the Reviews Column and Make It Numeric\n",
        "\n",
        "You'll notice that some columns from this dataframe which should be numeric, were parsed as object (string). That's because sometimes the numbers are expressed with M, or k to indicate Mega or kilo.\n",
        "\n",
        "Clean the Reviews column by transforming the values to the correct numeric representation.\n",
        "\n",
        "For example, 5M should be 5000000."
      ]
    },
    {
      "cell_type": "code",
      "execution_count": 4,
      "metadata": {
        "colab": {
          "base_uri": "https://localhost:8080/"
        },
        "id": "M5H-IUfMpIS3",
        "outputId": "c87a06be-6f06-4d71-9fa8-36ede6addc55"
      },
      "outputs": [
        {
          "output_type": "stream",
          "name": "stdout",
          "text": [
            "Index(['App', 'Category', 'Rating', 'Reviews', 'Size', 'Installs', 'Type',\n",
            "       'Price', 'Content Rating', 'Genres', 'Last Updated', 'Current Ver',\n",
            "       'Android Ver'],\n",
            "      dtype='object')\n",
            "   Reviews\n",
            "0      159\n",
            "1      967\n",
            "2    87510\n",
            "3   215644\n",
            "4      967\n"
          ]
        }
      ],
      "source": [
        "print(df.columns)\n",
        "#Convert the Reviews column to numeric\n",
        "def reviews(value):\n",
        "    if isinstance(value, str): #check if yhe value is a string\n",
        "        if 'M' in value:  # Convert \"M\" (Millions) to an integer\n",
        "            return int(float(value.replace('M', '').replace(',', '')) * 1000000)\n",
        "        elif 'K' in value: #convert \"K\" (Thousands) to an integer\n",
        "            return int(float(value.replace('K', '').replace(',', '')) * 1000)\n",
        "    try:\n",
        "        return int(value)  # Keep numeric values unchanged\n",
        "    except ValueError:\n",
        "        return None\n",
        "\n",
        "\n",
        "df['Reviews'] = df['Reviews'].apply(reviews)\n",
        "\n",
        "print(df[['Reviews']].head())"
      ]
    },
    {
      "cell_type": "markdown",
      "metadata": {
        "id": "EqpCP1-DpIS4"
      },
      "source": [
        "### 4. Count the Number of Duplicated Apps\n",
        "\n",
        "Count the number of duplicated rows. That is, if the app Twitter appears 2 times, that counts as 2."
      ]
    },
    {
      "cell_type": "code",
      "execution_count": 5,
      "metadata": {
        "colab": {
          "base_uri": "https://localhost:8080/"
        },
        "id": "tGGH-eu4pIS5",
        "outputId": "2fcdb1c0-96b7-4662-eb90-c0a87b103ef4"
      },
      "outputs": [
        {
          "output_type": "execute_result",
          "data": {
            "text/plain": [
              "np.int64(1181)"
            ]
          },
          "metadata": {},
          "execution_count": 5
        }
      ],
      "source": [
        "df.duplicated(subset=['App']).sum()"
      ]
    },
    {
      "cell_type": "markdown",
      "metadata": {
        "id": "9xZgTiBLpIS5"
      },
      "source": [
        "### 5. Drop Duplicated Apps Keeping Only the Ones with the Greatest Number of Reviews\n",
        "\n",
        "Now that the Reviews column is numeric, we can use it to clean duplicated apps. Drop duplicated apps, keeping just one copy of each, the one with the greatest number of reviews.\n",
        "\n",
        "Hint: you'll need to sort the dataframe by App and Reviews, and that will change the order of your df."
      ]
    },
    {
      "cell_type": "code",
      "execution_count": 6,
      "metadata": {
        "colab": {
          "base_uri": "https://localhost:8080/"
        },
        "id": "AXVYlpHGpIS6",
        "outputId": "cb701920-5519-48a7-8c02-e9a949e044c3"
      },
      "outputs": [
        {
          "output_type": "stream",
          "name": "stdout",
          "text": [
            "                                       App       Category    Rating  Reviews  \\\n",
            "8884  \"i DT\" Fútbol. Todos Somos Técnicos.         SPORTS  4.191757       27   \n",
            "8532         +Download 4 Instagram Twitter         SOCIAL  4.500000    40467   \n",
            "324             - Free Comics - Comic Apps         COMICS  3.500000      115   \n",
            "4541                                    .R          TOOLS  4.500000      259   \n",
            "4636                                /u/app  COMMUNICATION  4.700000      573   \n",
            "\n",
            "      Size    Installs  Type Price Content Rating         Genres  \\\n",
            "8884  3.6M        500+  Free     0       Everyone         Sports   \n",
            "8532   22M  1,000,000+  Free     0       Everyone         Social   \n",
            "324   9.1M     10,000+  Free     0     Mature 17+         Comics   \n",
            "4541  203k     10,000+  Free     0       Everyone          Tools   \n",
            "4636   53M     10,000+  Free     0     Mature 17+  Communication   \n",
            "\n",
            "            Last Updated Current Ver Android Ver  \n",
            "8884     October 7, 2017        0.22  4.1 and up  \n",
            "8532      August 2, 2018        5.03  4.1 and up  \n",
            "324        July 13, 2018      5.0.12  5.0 and up  \n",
            "4541  September 16, 2014      1.1.06  1.5 and up  \n",
            "4636        July 3, 2018       4.2.4  4.1 and up  \n"
          ]
        }
      ],
      "source": [
        "df = df.sort_values(by=['App', 'Reviews'], ascending=[True, False])\n",
        "\n",
        "df = df.drop_duplicates(subset=['App'], keep='first') # Drop duplicate apps while keeping the one with the highest number of reviews\n",
        "\n",
        "print(df.head())"
      ]
    },
    {
      "cell_type": "markdown",
      "metadata": {
        "id": "Icjl6u1qpIS6"
      },
      "source": [
        "### 6. Format the Category Column\n",
        "\n",
        "Categories are all uppercase and words are separated using underscores. Instead, we want them with capitalized in the first character and the underscores transformed as whitespaces.\n",
        "\n",
        "Example, the category AUTO_AND_VEHICLES should be transformed to: Auto and vehicles. Also, if you find any other wrong value transform it into an Unknown category."
      ]
    },
    {
      "cell_type": "code",
      "execution_count": 7,
      "metadata": {
        "colab": {
          "base_uri": "https://localhost:8080/"
        },
        "id": "mMj7xVPppIS7",
        "outputId": "36645fdb-81d9-45df-9cdf-83f713f44751"
      },
      "outputs": [
        {
          "output_type": "stream",
          "name": "stdout",
          "text": [
            "                 Category\n",
            "8884               Sports\n",
            "8532               Social\n",
            "324                Comics\n",
            "4541                Tools\n",
            "4636        Communication\n",
            "5940   News And Magazines\n",
            "10252              Sports\n",
            "1393   Health And Fitness\n",
            "8483               Family\n",
            "7738        Communication\n"
          ]
        }
      ],
      "source": [
        "df['Category'] = df['Category'].str.replace('_',' ').str.title() # Replace underscores with spaces and capitalize the first letter of each word\n",
        "valid_categories = df['Category'].unique()\n",
        "df.loc[~df['Category'].isin(valid_categories), 'Category'] = 'Unknown' # Replace any invalid categories with 'Unknown'\n",
        "print(df[['Category']].head(10))"
      ]
    },
    {
      "cell_type": "markdown",
      "metadata": {
        "id": "GsgJabiKpIS7"
      },
      "source": [
        "### 7. Clean and Convert the Installs Column to Numeric Type\n",
        "\n",
        "Clean and transform Installs as a numeric type. Some values in Installs will have a + modifier. Just remove the string and honor the original number (for example +2,500 or 2,500+ should be transformed to the number 2500)."
      ]
    },
    {
      "cell_type": "code",
      "execution_count": 8,
      "metadata": {
        "colab": {
          "base_uri": "https://localhost:8080/"
        },
        "id": "Wv8Yt2yppIS8",
        "outputId": "ab7d71f6-85eb-414f-c767-c9f13f7b5bee"
      },
      "outputs": [
        {
          "output_type": "stream",
          "name": "stdout",
          "text": [
            "       Installs\n",
            "8884        500\n",
            "8532    1000000\n",
            "324       10000\n",
            "4541      10000\n",
            "4636      10000\n",
            "5940        100\n",
            "10252    100000\n",
            "1393     500000\n",
            "8483     100000\n",
            "7738        100\n"
          ]
        }
      ],
      "source": [
        "df['Installs'] = df['Installs'].str.replace(r'\\+', '', regex=True)\n",
        "df['Installs'] = df['Installs'].str.replace(',', '', regex=True)\n",
        "df['Installs'] = df['Installs'].astype(int)\n",
        "\n",
        "print(df[['Installs']].head(10))\n"
      ]
    },
    {
      "cell_type": "markdown",
      "metadata": {
        "id": "y-cl5zCRpIS8"
      },
      "source": [
        "### 8. Clean and Convert the Size Column to Numeric (Representing Bytes)\n",
        "\n",
        "The Size column is of type object. Some values contain either a M or a k that indicate Kilobytes (1024 bytes) or Megabytes (1024 kb). These values should be transformed to their corresponding value in bytes. For example, 898k will become 919552 (898 * 1024).\n",
        "\n",
        "Some other values are completely invalid (there's no way to infer the numeric type from them). For these, just replace the value for 0.\n",
        "\n",
        "Some other rules are related to + modifiers, apply the same rules as the previous task."
      ]
    },
    {
      "cell_type": "code",
      "execution_count": 9,
      "metadata": {
        "colab": {
          "base_uri": "https://localhost:8080/"
        },
        "id": "U2krubuIpIS9",
        "outputId": "0fedadec-d7e1-49b7-fbeb-497a3c8325f4"
      },
      "outputs": [
        {
          "output_type": "stream",
          "name": "stdout",
          "text": [
            "           Size\n",
            "8884    3774873\n",
            "8532   23068672\n",
            "324     9542041\n",
            "4541     207872\n",
            "4636   55574528\n",
            "5940   14680064\n",
            "10252  42991616\n",
            "1393    3984588\n",
            "8483   50331648\n",
            "7738    3984588\n"
          ]
        }
      ],
      "source": [
        "import numpy as np\n",
        "\n",
        "def convert_size(value):\n",
        "    if isinstance(value, str):\n",
        "        if 'M' in value:\n",
        "            return int(float(value.replace('M', '')) * 1024 * 1024)\n",
        "        elif 'k' in value:\n",
        "            return int(float(value.replace('k', '')) * 1024)\n",
        "        elif value == 'Varies with device':\n",
        "            return 0\n",
        "\n",
        "    try:\n",
        "        return int(value)\n",
        "    except (ValueError, TypeError):\n",
        "        return 0\n",
        "\n",
        "df['Size'] = df['Size'].apply(convert_size)\n",
        "\n",
        "print(df[['Size']].head(10))\n"
      ]
    },
    {
      "cell_type": "markdown",
      "metadata": {
        "id": "tuEZfKFDpIS9"
      },
      "source": [
        "### 9. Clean and Convert the Price Column to Numeric\n",
        "\n",
        "Values of the Price column are strings representing price with special symbol '$'."
      ]
    },
    {
      "cell_type": "code",
      "execution_count": 10,
      "metadata": {
        "colab": {
          "base_uri": "https://localhost:8080/"
        },
        "id": "GIJVWmcCpIS9",
        "outputId": "e9cb20b8-341e-42c5-f771-0e3cceedf235"
      },
      "outputs": [
        {
          "output_type": "stream",
          "name": "stdout",
          "text": [
            "      Price\n",
            "8884      0\n",
            "8532      0\n",
            "324       0\n",
            "4541      0\n",
            "4636      0\n",
            "5940      0\n",
            "10252     0\n",
            "1393      0\n",
            "8483      0\n",
            "7738   1.49\n"
          ]
        }
      ],
      "source": [
        "# Remove '$'\n",
        "df['Price'] = df['Price'].str.replace('$', '')\n",
        "print(df[['Price']].head(10))"
      ]
    },
    {
      "cell_type": "markdown",
      "metadata": {
        "id": "YUapfy2CpIS-"
      },
      "source": [
        "### 10. Paid or Free?\n",
        "\n",
        "Now that you have cleaned the Price column, let's create another auxiliary Distribution column.\n",
        "\n",
        "This column should contain Free/Paid values depending on the app's price."
      ]
    },
    {
      "cell_type": "code",
      "execution_count": 11,
      "metadata": {
        "colab": {
          "base_uri": "https://localhost:8080/"
        },
        "id": "9FtWVouwpIS-",
        "outputId": "2625b0e6-548d-499a-b968-b390743a4f87"
      },
      "outputs": [
        {
          "output_type": "stream",
          "name": "stdout",
          "text": [
            "      Price\n",
            "8884      0\n",
            "8532      0\n",
            "324       0\n",
            "4541      0\n",
            "4636      0\n",
            "5940      0\n",
            "10252     0\n",
            "1393      0\n",
            "8483      0\n",
            "7738   1.49\n"
          ]
        }
      ],
      "source": [
        "def classify_app(price):\n",
        "    if price == 0:\n",
        "        return 'Free'\n",
        "    else:\n",
        "        return 'Paid'\n",
        "\n",
        "df['Type'] = df['Price'].apply(classify_app)\n",
        "print(df[['Price']].head(10))"
      ]
    },
    {
      "cell_type": "markdown",
      "metadata": {
        "id": "vyf63gKupIS-"
      },
      "source": [
        "## Finally!!!\n",
        "- Now all is left is to save the new dataframe we made into a new csv file called `filteredplaystore.csv`"
      ]
    },
    {
      "cell_type": "code",
      "execution_count": null,
      "metadata": {
        "id": "VhHuYVeBpIS_"
      },
      "outputs": [],
      "source": [
        "df.to_csv('filteredplaystore.csv',index = False) # :)"
      ]
    },
    {
      "cell_type": "code",
      "source": [
        "df.to_csv('/content/filteredplaystore.csv', index=False)\n",
        "\n",
        "import os\n",
        "print(\"File exists:\", os.path.exists('/content/filteredplaystore.csv'))\n",
        "\n",
        "from google.colab import files\n",
        "files.download('/content/filteredplaystore.csv')\n",
        "\n"
      ],
      "metadata": {
        "colab": {
          "base_uri": "https://localhost:8080/",
          "height": 34
        },
        "id": "QmF3eG0Oq4_u",
        "outputId": "2a98060e-5c16-4786-df66-96945cd95020"
      },
      "execution_count": 15,
      "outputs": [
        {
          "output_type": "stream",
          "name": "stdout",
          "text": [
            "File exists: True\n"
          ]
        },
        {
          "output_type": "display_data",
          "data": {
            "text/plain": [
              "<IPython.core.display.Javascript object>"
            ],
            "application/javascript": [
              "\n",
              "    async function download(id, filename, size) {\n",
              "      if (!google.colab.kernel.accessAllowed) {\n",
              "        return;\n",
              "      }\n",
              "      const div = document.createElement('div');\n",
              "      const label = document.createElement('label');\n",
              "      label.textContent = `Downloading \"${filename}\": `;\n",
              "      div.appendChild(label);\n",
              "      const progress = document.createElement('progress');\n",
              "      progress.max = size;\n",
              "      div.appendChild(progress);\n",
              "      document.body.appendChild(div);\n",
              "\n",
              "      const buffers = [];\n",
              "      let downloaded = 0;\n",
              "\n",
              "      const channel = await google.colab.kernel.comms.open(id);\n",
              "      // Send a message to notify the kernel that we're ready.\n",
              "      channel.send({})\n",
              "\n",
              "      for await (const message of channel.messages) {\n",
              "        // Send a message to notify the kernel that we're ready.\n",
              "        channel.send({})\n",
              "        if (message.buffers) {\n",
              "          for (const buffer of message.buffers) {\n",
              "            buffers.push(buffer);\n",
              "            downloaded += buffer.byteLength;\n",
              "            progress.value = downloaded;\n",
              "          }\n",
              "        }\n",
              "      }\n",
              "      const blob = new Blob(buffers, {type: 'application/binary'});\n",
              "      const a = document.createElement('a');\n",
              "      a.href = window.URL.createObjectURL(blob);\n",
              "      a.download = filename;\n",
              "      div.appendChild(a);\n",
              "      a.click();\n",
              "      div.remove();\n",
              "    }\n",
              "  "
            ]
          },
          "metadata": {}
        },
        {
          "output_type": "display_data",
          "data": {
            "text/plain": [
              "<IPython.core.display.Javascript object>"
            ],
            "application/javascript": [
              "download(\"download_e67f5cf6-565b-412f-929e-7629e3cef010\", \"filteredplaystore.csv\", 1180375)"
            ]
          },
          "metadata": {}
        }
      ]
    }
  ],
  "metadata": {
    "kernelspec": {
      "display_name": "Python 3",
      "language": "python",
      "name": "python3"
    },
    "language_info": {
      "codemirror_mode": {
        "name": "ipython",
        "version": 3
      },
      "file_extension": ".py",
      "mimetype": "text/x-python",
      "name": "python",
      "nbconvert_exporter": "python",
      "pygments_lexer": "ipython3",
      "version": "3.12.5"
    },
    "colab": {
      "provenance": []
    }
  },
  "nbformat": 4,
  "nbformat_minor": 0
}