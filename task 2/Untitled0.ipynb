{
  "nbformat": 4,
  "nbformat_minor": 0,
  "metadata": {
    "colab": {
      "provenance": []
    },
    "kernelspec": {
      "name": "python3",
      "display_name": "Python 3"
    },
    "language_info": {
      "name": "python"
    }
  },
  "cells": [
    {
      "cell_type": "code",
      "source": [],
      "metadata": {
        "id": "zI2wDNCZ7XJO"
      },
      "execution_count": null,
      "outputs": []
    },
    {
      "cell_type": "code",
      "source": [
        "#Create a text file with students’ information’s\n",
        "def create_student_file():\n",
        "  with open('students.txt','w')as file:\n",
        "    file.write(\"student name...subject...Degree\\n\")\n",
        "    file.write(\"1 Maher...English...45\\n\")\n",
        "    file.write(\"2 Madeh...Arabic...95\\n\")\n",
        "    file.write(\"3 fayrouz...Math...75\\n\")\n",
        "    file.write(\"4 basmala...histroy...85\\n\")\n",
        "    file.write(\"5 Aml...English...100 :)\\n\")\n",
        "    file.write(\"6 Nadine...Math...61\\n\")\n",
        "\n",
        "#Validate input against the file\n",
        "def validate_input(student_name):\n",
        "  # Open the student file in read mode\n",
        "  with open('students.txt','r') as file:\n",
        "  #read each line\n",
        "    for line in file:\n",
        "  #check if student name exists\n",
        "      if student_name in line:\n",
        "        return True\n",
        "  return False\n",
        "\n",
        "#add new student..\n",
        "def add_student():\n",
        "  while True:\n",
        "    new_name = input(\"Enter new student name :)\")\n",
        "    new_subject = input(\"Enter subject :)\")\n",
        "    new_marks = input(\"Enter marks :)\")\n",
        "\n",
        "#append new student information...\n",
        "    with open('students.txt','a') as file:\n",
        "       file.write(f\"{new_name} {new_subject} {new_marks} \\n\")\n",
        "    continue_adding = input(\"Do U want to add another student?(yes/no): \")\n",
        "    if continue_adding.lower() !='yes': #lower()<-  all letter are small\n",
        "        break\n",
        "\n",
        "#fun to Display grades <- واضحه دي :)\n",
        "def display_grades(student_name,subject,marks):\n",
        "   #Determine the grade based on the marks\n",
        "   if marks >= 90:\n",
        "    grade ='A' #:)\n",
        "   elif marks >= 80:\n",
        "    grade ='B'\n",
        "   elif marks >=70:\n",
        "    grade ='C'\n",
        "   elif marks >=60:\n",
        "    grade ='D'\n",
        "   else:\n",
        "    grade ='F'\n",
        "\n",
        "   return f\"Name: {student_name} | Subject: {subject} | Marks: {marks} | Grade: {grade}\"\n",
        "\n",
        "\n",
        "def main():\n",
        "  create_student_file() #create the student file\n",
        "  print(\"Hi! This is a student management system to help you :)\")\n",
        "\n",
        "  while True:\n",
        "    action = input(\"Do you want to add a new student or view grades? (view/add/Exit) \")\n",
        "    if action.lower() == 'view':\n",
        "      student_name = input(\"Enter student name: \")\n",
        "      if validate_input(student_name):\n",
        "        subject = input(\"Enter subject..\")\n",
        "        marks = int(input(\"Enter marks..\"))\n",
        "        print(display_grades(student_name,subject,marks)) #Display grades\n",
        "      else:\n",
        "        print(\"Student not found :( Please try again...\")\n",
        "    elif action.lower() == 'add':\n",
        "      add_student()\n",
        "    elif action.lower() == 'exit':\n",
        "      print(\"Thanks for using our app :) \")\n",
        "      break\n",
        "\n",
        "if __name__ == \"__main__\":\n",
        "  main()\n",
        "\n",
        "\n",
        "\n"
      ],
      "metadata": {
        "id": "dBJ5gvRFTIrl"
      },
      "execution_count": null,
      "outputs": []
    }
  ]
}